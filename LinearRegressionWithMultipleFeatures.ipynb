{
  "nbformat": 4,
  "nbformat_minor": 0,
  "metadata": {
    "colab": {
      "provenance": [],
      "authorship_tag": "ABX9TyM97H44g1HUZNOq/98ogzmh",
      "include_colab_link": true
    },
    "kernelspec": {
      "name": "python3",
      "display_name": "Python 3"
    },
    "language_info": {
      "name": "python"
    }
  },
  "cells": [
    {
      "cell_type": "markdown",
      "metadata": {
        "id": "view-in-github",
        "colab_type": "text"
      },
      "source": [
        "<a href=\"https://colab.research.google.com/github/NidhiSingh25901/MLAlgorithm/blob/main/LinearRegressionWithMultipleFeatures.ipynb\" target=\"_parent\"><img src=\"https://colab.research.google.com/assets/colab-badge.svg\" alt=\"Open In Colab\"/></a>"
      ]
    },
    {
      "cell_type": "code",
      "execution_count": null,
      "metadata": {
        "id": "jBn-hAO7GfkM"
      },
      "outputs": [],
      "source": [
        "import numpy as np\n",
        "import pandas as pd\n",
        "import matplotlib.pyplot as plt\n",
        "from sklearn.datasets import make_regression"
      ]
    },
    {
      "cell_type": "code",
      "source": [
        "x,y = make_regression(n_samples=500, n_features=10, n_informative=5, noise = 25.0, random_state =0)\n",
        "print(x.shape, y.shape)"
      ],
      "metadata": {
        "colab": {
          "base_uri": "https://localhost:8080/"
        },
        "id": "rCrrmP7CJ213",
        "outputId": "77fe3322-b9f1-455b-86be-dfa436fe862a"
      },
      "execution_count": null,
      "outputs": [
        {
          "output_type": "stream",
          "name": "stdout",
          "text": [
            "(500, 10) (500,)\n"
          ]
        }
      ]
    },
    {
      "cell_type": "code",
      "source": [
        "print(x)"
      ],
      "metadata": {
        "colab": {
          "base_uri": "https://localhost:8080/"
        },
        "id": "65mP9fhoKd2u",
        "outputId": "7370e79f-b0ec-4e28-8c38-ff3676eab1ba"
      },
      "execution_count": null,
      "outputs": [
        {
          "output_type": "stream",
          "name": "stdout",
          "text": [
            "[[ 1.70646825e+00  1.51163935e+00 -4.17326413e-04 ... -4.61893815e-01\n",
            "  -6.26490223e-01 -7.99593500e-01]\n",
            " [-1.61695604e+00  6.40131526e-01 -3.69181838e-01 ...  2.79924599e-01\n",
            "  -9.81503896e-02  6.55263731e-01]\n",
            " [ 9.39532294e-02 -1.30106954e-01  9.29505111e-01 ... -5.69312053e-01\n",
            "   2.69904355e-01  1.23721914e-01]\n",
            " ...\n",
            " [-1.79132755e+00 -3.65055217e-01 -4.99016638e-01 ... -1.63242330e+00\n",
            "  -6.71341546e-02  1.92753849e-01]\n",
            " [-3.60084119e-01 -1.12684086e+00  6.24447319e-01 ... -9.56580009e-01\n",
            "   5.97939206e-01  1.61479638e+00]\n",
            " [-5.41678349e-01  1.33179885e-01  8.13937910e-01 ...  1.18210209e+00\n",
            "  -1.57065459e+00  7.96560724e-01]]\n"
          ]
        }
      ]
    },
    {
      "cell_type": "code",
      "source": [
        "pd.DataFrame(x).head(n=100)"
      ],
      "metadata": {
        "colab": {
          "base_uri": "https://localhost:8080/",
          "height": 423
        },
        "id": "sKWm89CRKb12",
        "outputId": "15d10752-5a7f-4e8f-bb5c-06a673e628f8"
      },
      "execution_count": null,
      "outputs": [
        {
          "output_type": "execute_result",
          "data": {
            "text/plain": [
              "           0         1         2         3         4         5         6  \\\n",
              "0   1.706468  1.511639 -0.000417  0.374155  0.073285  0.701783  0.409552   \n",
              "1  -1.616956  0.640132 -0.369182 -0.239379 -0.738031 -0.024326  1.099660   \n",
              "2   0.093953 -0.130107  0.929505  0.582225 -2.739677  0.943046 -2.094603   \n",
              "3  -1.542758 -0.789954  0.537035 -0.286835 -2.369623 -0.767332  1.634406   \n",
              "4  -0.101003 -2.231538  0.436187  1.571463  1.324868 -0.587375  1.077315   \n",
              "..       ...       ...       ...       ...       ...       ...       ...   \n",
              "95  1.396849  2.123526 -0.104049  0.881225  0.374969 -0.432827 -0.088373   \n",
              "96 -0.954943  0.100564  1.102283 -0.697073  1.010428 -1.470402  0.207334   \n",
              "97  0.715939  0.542611  0.147434 -0.977465  0.880938 -2.994613  0.879390   \n",
              "98 -0.177813 -1.892362  1.905064 -0.014777  1.054758  0.250998 -0.300479   \n",
              "99  0.477068 -0.968082  0.623454  0.890672  2.540232 -0.355951  0.512917   \n",
              "\n",
              "           7         8         9  \n",
              "0  -0.461894 -0.626490 -0.799593  \n",
              "1   0.279925 -0.098150  0.655264  \n",
              "2  -0.569312  0.269904  0.123722  \n",
              "3  -0.260560  0.128957  0.571227  \n",
              "4   0.840648  0.261106  0.811090  \n",
              "..       ...       ...       ...  \n",
              "95  0.494445  0.761391  0.267671  \n",
              "96  0.496179  0.576956  0.759157  \n",
              "97  1.808132  0.436638  0.635425  \n",
              "98  0.960048 -0.416499 -0.355029  \n",
              "99  0.926558  0.558082 -2.541239  \n",
              "\n",
              "[100 rows x 10 columns]"
            ],
            "text/html": [
              "\n",
              "  <div id=\"df-b8c92510-0f5d-4687-94ca-e242e3cb768b\" class=\"colab-df-container\">\n",
              "    <div>\n",
              "<style scoped>\n",
              "    .dataframe tbody tr th:only-of-type {\n",
              "        vertical-align: middle;\n",
              "    }\n",
              "\n",
              "    .dataframe tbody tr th {\n",
              "        vertical-align: top;\n",
              "    }\n",
              "\n",
              "    .dataframe thead th {\n",
              "        text-align: right;\n",
              "    }\n",
              "</style>\n",
              "<table border=\"1\" class=\"dataframe\">\n",
              "  <thead>\n",
              "    <tr style=\"text-align: right;\">\n",
              "      <th></th>\n",
              "      <th>0</th>\n",
              "      <th>1</th>\n",
              "      <th>2</th>\n",
              "      <th>3</th>\n",
              "      <th>4</th>\n",
              "      <th>5</th>\n",
              "      <th>6</th>\n",
              "      <th>7</th>\n",
              "      <th>8</th>\n",
              "      <th>9</th>\n",
              "    </tr>\n",
              "  </thead>\n",
              "  <tbody>\n",
              "    <tr>\n",
              "      <th>0</th>\n",
              "      <td>1.706468</td>\n",
              "      <td>1.511639</td>\n",
              "      <td>-0.000417</td>\n",
              "      <td>0.374155</td>\n",
              "      <td>0.073285</td>\n",
              "      <td>0.701783</td>\n",
              "      <td>0.409552</td>\n",
              "      <td>-0.461894</td>\n",
              "      <td>-0.626490</td>\n",
              "      <td>-0.799593</td>\n",
              "    </tr>\n",
              "    <tr>\n",
              "      <th>1</th>\n",
              "      <td>-1.616956</td>\n",
              "      <td>0.640132</td>\n",
              "      <td>-0.369182</td>\n",
              "      <td>-0.239379</td>\n",
              "      <td>-0.738031</td>\n",
              "      <td>-0.024326</td>\n",
              "      <td>1.099660</td>\n",
              "      <td>0.279925</td>\n",
              "      <td>-0.098150</td>\n",
              "      <td>0.655264</td>\n",
              "    </tr>\n",
              "    <tr>\n",
              "      <th>2</th>\n",
              "      <td>0.093953</td>\n",
              "      <td>-0.130107</td>\n",
              "      <td>0.929505</td>\n",
              "      <td>0.582225</td>\n",
              "      <td>-2.739677</td>\n",
              "      <td>0.943046</td>\n",
              "      <td>-2.094603</td>\n",
              "      <td>-0.569312</td>\n",
              "      <td>0.269904</td>\n",
              "      <td>0.123722</td>\n",
              "    </tr>\n",
              "    <tr>\n",
              "      <th>3</th>\n",
              "      <td>-1.542758</td>\n",
              "      <td>-0.789954</td>\n",
              "      <td>0.537035</td>\n",
              "      <td>-0.286835</td>\n",
              "      <td>-2.369623</td>\n",
              "      <td>-0.767332</td>\n",
              "      <td>1.634406</td>\n",
              "      <td>-0.260560</td>\n",
              "      <td>0.128957</td>\n",
              "      <td>0.571227</td>\n",
              "    </tr>\n",
              "    <tr>\n",
              "      <th>4</th>\n",
              "      <td>-0.101003</td>\n",
              "      <td>-2.231538</td>\n",
              "      <td>0.436187</td>\n",
              "      <td>1.571463</td>\n",
              "      <td>1.324868</td>\n",
              "      <td>-0.587375</td>\n",
              "      <td>1.077315</td>\n",
              "      <td>0.840648</td>\n",
              "      <td>0.261106</td>\n",
              "      <td>0.811090</td>\n",
              "    </tr>\n",
              "    <tr>\n",
              "      <th>...</th>\n",
              "      <td>...</td>\n",
              "      <td>...</td>\n",
              "      <td>...</td>\n",
              "      <td>...</td>\n",
              "      <td>...</td>\n",
              "      <td>...</td>\n",
              "      <td>...</td>\n",
              "      <td>...</td>\n",
              "      <td>...</td>\n",
              "      <td>...</td>\n",
              "    </tr>\n",
              "    <tr>\n",
              "      <th>95</th>\n",
              "      <td>1.396849</td>\n",
              "      <td>2.123526</td>\n",
              "      <td>-0.104049</td>\n",
              "      <td>0.881225</td>\n",
              "      <td>0.374969</td>\n",
              "      <td>-0.432827</td>\n",
              "      <td>-0.088373</td>\n",
              "      <td>0.494445</td>\n",
              "      <td>0.761391</td>\n",
              "      <td>0.267671</td>\n",
              "    </tr>\n",
              "    <tr>\n",
              "      <th>96</th>\n",
              "      <td>-0.954943</td>\n",
              "      <td>0.100564</td>\n",
              "      <td>1.102283</td>\n",
              "      <td>-0.697073</td>\n",
              "      <td>1.010428</td>\n",
              "      <td>-1.470402</td>\n",
              "      <td>0.207334</td>\n",
              "      <td>0.496179</td>\n",
              "      <td>0.576956</td>\n",
              "      <td>0.759157</td>\n",
              "    </tr>\n",
              "    <tr>\n",
              "      <th>97</th>\n",
              "      <td>0.715939</td>\n",
              "      <td>0.542611</td>\n",
              "      <td>0.147434</td>\n",
              "      <td>-0.977465</td>\n",
              "      <td>0.880938</td>\n",
              "      <td>-2.994613</td>\n",
              "      <td>0.879390</td>\n",
              "      <td>1.808132</td>\n",
              "      <td>0.436638</td>\n",
              "      <td>0.635425</td>\n",
              "    </tr>\n",
              "    <tr>\n",
              "      <th>98</th>\n",
              "      <td>-0.177813</td>\n",
              "      <td>-1.892362</td>\n",
              "      <td>1.905064</td>\n",
              "      <td>-0.014777</td>\n",
              "      <td>1.054758</td>\n",
              "      <td>0.250998</td>\n",
              "      <td>-0.300479</td>\n",
              "      <td>0.960048</td>\n",
              "      <td>-0.416499</td>\n",
              "      <td>-0.355029</td>\n",
              "    </tr>\n",
              "    <tr>\n",
              "      <th>99</th>\n",
              "      <td>0.477068</td>\n",
              "      <td>-0.968082</td>\n",
              "      <td>0.623454</td>\n",
              "      <td>0.890672</td>\n",
              "      <td>2.540232</td>\n",
              "      <td>-0.355951</td>\n",
              "      <td>0.512917</td>\n",
              "      <td>0.926558</td>\n",
              "      <td>0.558082</td>\n",
              "      <td>-2.541239</td>\n",
              "    </tr>\n",
              "  </tbody>\n",
              "</table>\n",
              "<p>100 rows × 10 columns</p>\n",
              "</div>\n",
              "    <div class=\"colab-df-buttons\">\n",
              "\n",
              "  <div class=\"colab-df-container\">\n",
              "    <button class=\"colab-df-convert\" onclick=\"convertToInteractive('df-b8c92510-0f5d-4687-94ca-e242e3cb768b')\"\n",
              "            title=\"Convert this dataframe to an interactive table.\"\n",
              "            style=\"display:none;\">\n",
              "\n",
              "  <svg xmlns=\"http://www.w3.org/2000/svg\" height=\"24px\" viewBox=\"0 -960 960 960\">\n",
              "    <path d=\"M120-120v-720h720v720H120Zm60-500h600v-160H180v160Zm220 220h160v-160H400v160Zm0 220h160v-160H400v160ZM180-400h160v-160H180v160Zm440 0h160v-160H620v160ZM180-180h160v-160H180v160Zm440 0h160v-160H620v160Z\"/>\n",
              "  </svg>\n",
              "    </button>\n",
              "\n",
              "  <style>\n",
              "    .colab-df-container {\n",
              "      display:flex;\n",
              "      gap: 12px;\n",
              "    }\n",
              "\n",
              "    .colab-df-convert {\n",
              "      background-color: #E8F0FE;\n",
              "      border: none;\n",
              "      border-radius: 50%;\n",
              "      cursor: pointer;\n",
              "      display: none;\n",
              "      fill: #1967D2;\n",
              "      height: 32px;\n",
              "      padding: 0 0 0 0;\n",
              "      width: 32px;\n",
              "    }\n",
              "\n",
              "    .colab-df-convert:hover {\n",
              "      background-color: #E2EBFA;\n",
              "      box-shadow: 0px 1px 2px rgba(60, 64, 67, 0.3), 0px 1px 3px 1px rgba(60, 64, 67, 0.15);\n",
              "      fill: #174EA6;\n",
              "    }\n",
              "\n",
              "    .colab-df-buttons div {\n",
              "      margin-bottom: 4px;\n",
              "    }\n",
              "\n",
              "    [theme=dark] .colab-df-convert {\n",
              "      background-color: #3B4455;\n",
              "      fill: #D2E3FC;\n",
              "    }\n",
              "\n",
              "    [theme=dark] .colab-df-convert:hover {\n",
              "      background-color: #434B5C;\n",
              "      box-shadow: 0px 1px 3px 1px rgba(0, 0, 0, 0.15);\n",
              "      filter: drop-shadow(0px 1px 2px rgba(0, 0, 0, 0.3));\n",
              "      fill: #FFFFFF;\n",
              "    }\n",
              "  </style>\n",
              "\n",
              "    <script>\n",
              "      const buttonEl =\n",
              "        document.querySelector('#df-b8c92510-0f5d-4687-94ca-e242e3cb768b button.colab-df-convert');\n",
              "      buttonEl.style.display =\n",
              "        google.colab.kernel.accessAllowed ? 'block' : 'none';\n",
              "\n",
              "      async function convertToInteractive(key) {\n",
              "        const element = document.querySelector('#df-b8c92510-0f5d-4687-94ca-e242e3cb768b');\n",
              "        const dataTable =\n",
              "          await google.colab.kernel.invokeFunction('convertToInteractive',\n",
              "                                                    [key], {});\n",
              "        if (!dataTable) return;\n",
              "\n",
              "        const docLinkHtml = 'Like what you see? Visit the ' +\n",
              "          '<a target=\"_blank\" href=https://colab.research.google.com/notebooks/data_table.ipynb>data table notebook</a>'\n",
              "          + ' to learn more about interactive tables.';\n",
              "        element.innerHTML = '';\n",
              "        dataTable['output_type'] = 'display_data';\n",
              "        await google.colab.output.renderOutput(dataTable, element);\n",
              "        const docLink = document.createElement('div');\n",
              "        docLink.innerHTML = docLinkHtml;\n",
              "        element.appendChild(docLink);\n",
              "      }\n",
              "    </script>\n",
              "  </div>\n",
              "\n",
              "\n",
              "    <div id=\"df-247a0089-15ed-4400-94b5-26e92653db2c\">\n",
              "      <button class=\"colab-df-quickchart\" onclick=\"quickchart('df-247a0089-15ed-4400-94b5-26e92653db2c')\"\n",
              "                title=\"Suggest charts\"\n",
              "                style=\"display:none;\">\n",
              "\n",
              "<svg xmlns=\"http://www.w3.org/2000/svg\" height=\"24px\"viewBox=\"0 0 24 24\"\n",
              "     width=\"24px\">\n",
              "    <g>\n",
              "        <path d=\"M19 3H5c-1.1 0-2 .9-2 2v14c0 1.1.9 2 2 2h14c1.1 0 2-.9 2-2V5c0-1.1-.9-2-2-2zM9 17H7v-7h2v7zm4 0h-2V7h2v10zm4 0h-2v-4h2v4z\"/>\n",
              "    </g>\n",
              "</svg>\n",
              "      </button>\n",
              "\n",
              "<style>\n",
              "  .colab-df-quickchart {\n",
              "      --bg-color: #E8F0FE;\n",
              "      --fill-color: #1967D2;\n",
              "      --hover-bg-color: #E2EBFA;\n",
              "      --hover-fill-color: #174EA6;\n",
              "      --disabled-fill-color: #AAA;\n",
              "      --disabled-bg-color: #DDD;\n",
              "  }\n",
              "\n",
              "  [theme=dark] .colab-df-quickchart {\n",
              "      --bg-color: #3B4455;\n",
              "      --fill-color: #D2E3FC;\n",
              "      --hover-bg-color: #434B5C;\n",
              "      --hover-fill-color: #FFFFFF;\n",
              "      --disabled-bg-color: #3B4455;\n",
              "      --disabled-fill-color: #666;\n",
              "  }\n",
              "\n",
              "  .colab-df-quickchart {\n",
              "    background-color: var(--bg-color);\n",
              "    border: none;\n",
              "    border-radius: 50%;\n",
              "    cursor: pointer;\n",
              "    display: none;\n",
              "    fill: var(--fill-color);\n",
              "    height: 32px;\n",
              "    padding: 0;\n",
              "    width: 32px;\n",
              "  }\n",
              "\n",
              "  .colab-df-quickchart:hover {\n",
              "    background-color: var(--hover-bg-color);\n",
              "    box-shadow: 0 1px 2px rgba(60, 64, 67, 0.3), 0 1px 3px 1px rgba(60, 64, 67, 0.15);\n",
              "    fill: var(--button-hover-fill-color);\n",
              "  }\n",
              "\n",
              "  .colab-df-quickchart-complete:disabled,\n",
              "  .colab-df-quickchart-complete:disabled:hover {\n",
              "    background-color: var(--disabled-bg-color);\n",
              "    fill: var(--disabled-fill-color);\n",
              "    box-shadow: none;\n",
              "  }\n",
              "\n",
              "  .colab-df-spinner {\n",
              "    border: 2px solid var(--fill-color);\n",
              "    border-color: transparent;\n",
              "    border-bottom-color: var(--fill-color);\n",
              "    animation:\n",
              "      spin 1s steps(1) infinite;\n",
              "  }\n",
              "\n",
              "  @keyframes spin {\n",
              "    0% {\n",
              "      border-color: transparent;\n",
              "      border-bottom-color: var(--fill-color);\n",
              "      border-left-color: var(--fill-color);\n",
              "    }\n",
              "    20% {\n",
              "      border-color: transparent;\n",
              "      border-left-color: var(--fill-color);\n",
              "      border-top-color: var(--fill-color);\n",
              "    }\n",
              "    30% {\n",
              "      border-color: transparent;\n",
              "      border-left-color: var(--fill-color);\n",
              "      border-top-color: var(--fill-color);\n",
              "      border-right-color: var(--fill-color);\n",
              "    }\n",
              "    40% {\n",
              "      border-color: transparent;\n",
              "      border-right-color: var(--fill-color);\n",
              "      border-top-color: var(--fill-color);\n",
              "    }\n",
              "    60% {\n",
              "      border-color: transparent;\n",
              "      border-right-color: var(--fill-color);\n",
              "    }\n",
              "    80% {\n",
              "      border-color: transparent;\n",
              "      border-right-color: var(--fill-color);\n",
              "      border-bottom-color: var(--fill-color);\n",
              "    }\n",
              "    90% {\n",
              "      border-color: transparent;\n",
              "      border-bottom-color: var(--fill-color);\n",
              "    }\n",
              "  }\n",
              "</style>\n",
              "\n",
              "      <script>\n",
              "        async function quickchart(key) {\n",
              "          const quickchartButtonEl =\n",
              "            document.querySelector('#' + key + ' button');\n",
              "          quickchartButtonEl.disabled = true;  // To prevent multiple clicks.\n",
              "          quickchartButtonEl.classList.add('colab-df-spinner');\n",
              "          try {\n",
              "            const charts = await google.colab.kernel.invokeFunction(\n",
              "                'suggestCharts', [key], {});\n",
              "          } catch (error) {\n",
              "            console.error('Error during call to suggestCharts:', error);\n",
              "          }\n",
              "          quickchartButtonEl.classList.remove('colab-df-spinner');\n",
              "          quickchartButtonEl.classList.add('colab-df-quickchart-complete');\n",
              "        }\n",
              "        (() => {\n",
              "          let quickchartButtonEl =\n",
              "            document.querySelector('#df-247a0089-15ed-4400-94b5-26e92653db2c button');\n",
              "          quickchartButtonEl.style.display =\n",
              "            google.colab.kernel.accessAllowed ? 'block' : 'none';\n",
              "        })();\n",
              "      </script>\n",
              "    </div>\n",
              "\n",
              "    </div>\n",
              "  </div>\n"
            ],
            "application/vnd.google.colaboratory.intrinsic+json": {
              "type": "dataframe",
              "summary": "{\n  \"name\": \"pd\",\n  \"rows\": 100,\n  \"fields\": [\n    {\n      \"column\": 0,\n      \"properties\": {\n        \"dtype\": \"number\",\n        \"std\": 0.9530299836188082,\n        \"min\": -2.0865100288551877,\n        \"max\": 2.2320163895251777,\n        \"num_unique_values\": 100,\n        \"samples\": [\n          -0.32473026508296,\n          1.9436211856492926,\n          0.5319746390071913\n        ],\n        \"semantic_type\": \"\",\n        \"description\": \"\"\n      }\n    },\n    {\n      \"column\": 1,\n      \"properties\": {\n        \"dtype\": \"number\",\n        \"std\": 1.0732326700846873,\n        \"min\": -2.2315376387217634,\n        \"max\": 2.6962240525635797,\n        \"num_unique_values\": 100,\n        \"samples\": [\n          -0.0285288698344164,\n          -1.17312340511416,\n          -1.5482543228490424\n        ],\n        \"semantic_type\": \"\",\n        \"description\": \"\"\n      }\n    },\n    {\n      \"column\": 2,\n      \"properties\": {\n        \"dtype\": \"number\",\n        \"std\": 1.0746969824427222,\n        \"min\": -2.7196793643226145,\n        \"max\": 2.5998671643790567,\n        \"num_unique_values\": 100,\n        \"samples\": [\n          0.8864915393596159,\n          1.8831506970562544,\n          0.43077113494564145\n        ],\n        \"semantic_type\": \"\",\n        \"description\": \"\"\n      }\n    },\n    {\n      \"column\": 3,\n      \"properties\": {\n        \"dtype\": \"number\",\n        \"std\": 0.8472767622723292,\n        \"min\": -2.77259275642665,\n        \"max\": 1.9295320538169858,\n        \"num_unique_values\": 100,\n        \"samples\": [\n          -0.2721317560182082,\n          -1.3477590611424464,\n          -0.14989159173313932\n        ],\n        \"semantic_type\": \"\",\n        \"description\": \"\"\n      }\n    },\n    {\n      \"column\": 4,\n      \"properties\": {\n        \"dtype\": \"number\",\n        \"std\": 0.9804586199069195,\n        \"min\": -2.892519821999137,\n        \"max\": 2.5402316207591715,\n        \"num_unique_values\": 100,\n        \"samples\": [\n          0.17371185298702344,\n          -0.7474548114407578,\n          -0.10039350340136602\n        ],\n        \"semantic_type\": \"\",\n        \"description\": \"\"\n      }\n    },\n    {\n      \"column\": 5,\n      \"properties\": {\n        \"dtype\": \"number\",\n        \"std\": 0.8178328264358871,\n        \"min\": -2.994612860227619,\n        \"max\": 1.9677296821430459,\n        \"num_unique_values\": 100,\n        \"samples\": [\n          -0.5288698535561153,\n          -0.41361898075974735,\n          1.2605688450421493\n        ],\n        \"semantic_type\": \"\",\n        \"description\": \"\"\n      }\n    },\n    {\n      \"column\": 6,\n      \"properties\": {\n        \"dtype\": \"number\",\n        \"std\": 1.094234135262204,\n        \"min\": -2.3276040427011497,\n        \"max\": 2.488441614331128,\n        \"num_unique_values\": 100,\n        \"samples\": [\n          0.28479059913436316,\n          -1.2704849984857336,\n          -1.0060368579203915\n        ],\n        \"semantic_type\": \"\",\n        \"description\": \"\"\n      }\n    },\n    {\n      \"column\": 7,\n      \"properties\": {\n        \"dtype\": \"number\",\n        \"std\": 1.1256612439020834,\n        \"min\": -2.369586905226603,\n        \"max\": 3.8016602149671153,\n        \"num_unique_values\": 100,\n        \"samples\": [\n          0.5665453158182124,\n          1.9229420264803847,\n          -0.4003488150134234\n        ],\n        \"semantic_type\": \"\",\n        \"description\": \"\"\n      }\n    },\n    {\n      \"column\": 8,\n      \"properties\": {\n        \"dtype\": \"number\",\n        \"std\": 1.0164502312109511,\n        \"min\": -3.392299993422376,\n        \"max\": 2.315170634005945,\n        \"num_unique_values\": 100,\n        \"samples\": [\n          0.14630444600104425,\n          1.4805147914344243,\n          -1.4723229284664896\n        ],\n        \"semantic_type\": \"\",\n        \"description\": \"\"\n      }\n    },\n    {\n      \"column\": 9,\n      \"properties\": {\n        \"dtype\": \"number\",\n        \"std\": 1.0049512972500843,\n        \"min\": -2.5412388076882246,\n        \"max\": 2.240893199201458,\n        \"num_unique_values\": 100,\n        \"samples\": [\n          -0.30937759288336136,\n          0.9693967081580112,\n          -0.8215498256031326\n        ],\n        \"semantic_type\": \"\",\n        \"description\": \"\"\n      }\n    }\n  ]\n}"
            }
          },
          "metadata": {},
          "execution_count": 8
        }
      ]
    },
    {
      "cell_type": "code",
      "source": [
        "#Step2 normalize\n",
        "def normalize(x):\n",
        "  u = x.mean(axis=0)\n",
        "  std = x.std(axis=0)\n",
        "  return ((x-u)/std)"
      ],
      "metadata": {
        "id": "S3U2HZvnKsV0"
      },
      "execution_count": null,
      "outputs": []
    },
    {
      "cell_type": "code",
      "source": [
        "x.mean(axis=0)"
      ],
      "metadata": {
        "colab": {
          "base_uri": "https://localhost:8080/"
        },
        "id": "ZkjP5WXLMfts",
        "outputId": "019d695a-3d1d-41b2-c2cd-b2d8a11b0c78"
      },
      "execution_count": null,
      "outputs": [
        {
          "output_type": "execute_result",
          "data": {
            "text/plain": [
              "array([-0.02995589, -0.07127637, -0.09357268,  0.04844928, -0.03183627,\n",
              "        0.01762592, -0.0091391 ,  0.00855508,  0.06286967, -0.04898012])"
            ]
          },
          "metadata": {},
          "execution_count": 13
        }
      ]
    },
    {
      "cell_type": "code",
      "source": [
        "x.std(axis=0)"
      ],
      "metadata": {
        "colab": {
          "base_uri": "https://localhost:8080/"
        },
        "id": "Vz6jztTOMr7s",
        "outputId": "709916c0-92e7-41de-e31f-36e50a226e09"
      },
      "execution_count": null,
      "outputs": [
        {
          "output_type": "execute_result",
          "data": {
            "text/plain": [
              "array([0.98390394, 1.00209533, 0.99304481, 0.95362204, 1.01860381,\n",
              "       0.91807952, 0.99277996, 1.02029591, 0.96972094, 0.98536712])"
            ]
          },
          "metadata": {},
          "execution_count": 15
        }
      ]
    },
    {
      "cell_type": "code",
      "source": [
        "#Visualize y as function of each feature\n",
        "\n",
        "for f in range(0,9):\n",
        "  plt.subplot(3,3,f+1)\n",
        "  plt.scatter(x[:,f],y)\n",
        "plt.show()"
      ],
      "metadata": {
        "colab": {
          "base_uri": "https://localhost:8080/",
          "height": 430
        },
        "id": "pYZ8NxOcMzUF",
        "outputId": "84d5c1b9-03b1-4546-a665-80d3c55d7831"
      },
      "execution_count": null,
      "outputs": [
        {
          "output_type": "display_data",
          "data": {
            "text/plain": [
              "<Figure size 640x480 with 9 Axes>"
            ],
            "image/png": "[encoded data removed]"
          },
          "metadata": {}
        }
      ]
    },
    {
      "cell_type": "code",
      "source": [
        "#Train test data\n",
        "x,y = make_regression(n_samples=500, n_features=10, n_informative=5, noise = 25.0, random_state =0)\n",
        "print(x.shape, y.shape)\n"
      ],
      "metadata": {
        "colab": {
          "base_uri": "https://localhost:8080/"
        },
        "id": "-8Sc7eUfVe8h",
        "outputId": "0b381289-4b7c-46d6-fecc-f89fcce10dda"
      },
      "execution_count": null,
      "outputs": [
        {
          "output_type": "stream",
          "name": "stdout",
          "text": [
            "(500, 10) (500,)\n"
          ]
        }
      ]
    },
    {
      "cell_type": "code",
      "source": [
        "#STEP 5 Modelling / Linear regression with multiple reasons\n",
        "def hypothesis(x,theta):\n",
        "  return np.dot(x,theta)"
      ],
      "metadata": {
        "id": "zyZ6D-SpXmz2"
      },
      "execution_count": null,
      "outputs": []
    },
    {
      "cell_type": "code",
      "source": [
        "#Loss funtion\n",
        "\n",
        "def loss(x,y,theta):\n",
        "  yp = hypothesis(x,theta)\n",
        "  error =np.mean((y-yp)**2)\n",
        "  return error"
      ],
      "metadata": {
        "id": "Vnjo554Xvj-g"
      },
      "execution_count": null,
      "outputs": []
    },
    {
      "cell_type": "code",
      "source": [
        "def gradient(x,y,theta):\n",
        "  yp = hypothesis(x,theta)\n",
        "  grad = np.dot(x.T,(yp-y))\n",
        "  m=x.shape[0]\n",
        "  return grad/m"
      ],
      "metadata": {
        "id": "HAeZTLZn0rE0"
      },
      "execution_count": null,
      "outputs": []
    },
    {
      "cell_type": "code",
      "source": [
        "def train(x,y,learning_rate=0.1, max_iters=100):\n",
        "  n = x.shape[1]\n",
        "  theta = np.random.randn(n)\n",
        "  error_list = []\n",
        "\n",
        "  for i in range(max_iters):\n",
        "    e=loss(x,y,theta)\n",
        "    error_list.append(e)\n",
        "    grad = gradient(x,y,theta)\n",
        "    theta = theta - learning_rate*grad\n",
        "\n",
        "  plt.plot(error_list)\n",
        "  return theta"
      ],
      "metadata": {
        "id": "_OJXlQCc06ao"
      },
      "execution_count": null,
      "outputs": []
    },
    {
      "cell_type": "code",
      "source": [
        "xt=100\n",
        "yt=200"
      ],
      "metadata": {
        "id": "-hpmr6Ar3wVB"
      },
      "execution_count": null,
      "outputs": []
    },
    {
      "cell_type": "code",
      "source": [
        "theta = train(x,y)\n",
        "print(theta)"
      ],
      "metadata": {
        "colab": {
          "base_uri": "https://localhost:8080/",
          "height": 159
        },
        "id": "s9rbHxiX3YLN",
        "outputId": "cc301f28-6f17-4a40-b061-cb19663a9f5d"
      },
      "execution_count": null,
      "outputs": [
        {
          "output_type": "error",
          "ename": "NameError",
          "evalue": "name 'x' is not defined",
          "traceback": [
            "\u001b[0;31m---------------------------------------------------------------------------\u001b[0m",
            "\u001b[0;31mNameError\u001b[0m                                 Traceback (most recent call last)",
            "\u001b[0;32m/tmp/ipython-input-2796189293.py\u001b[0m in \u001b[0;36m<cell line: 0>\u001b[0;34m()\u001b[0m\n\u001b[0;32m----> 1\u001b[0;31m \u001b[0mtheta\u001b[0m \u001b[0;34m=\u001b[0m \u001b[0mtrain\u001b[0m\u001b[0;34m(\u001b[0m\u001b[0mx\u001b[0m\u001b[0;34m,\u001b[0m\u001b[0my\u001b[0m\u001b[0;34m)\u001b[0m\u001b[0;34m\u001b[0m\u001b[0;34m\u001b[0m\u001b[0m\n\u001b[0m\u001b[1;32m      2\u001b[0m \u001b[0mprint\u001b[0m\u001b[0;34m(\u001b[0m\u001b[0mtheta\u001b[0m\u001b[0;34m)\u001b[0m\u001b[0;34m\u001b[0m\u001b[0;34m\u001b[0m\u001b[0m\n",
            "\u001b[0;31mNameError\u001b[0m: name 'x' is not defined"
          ]
        }
      ]
    }
  ]
}