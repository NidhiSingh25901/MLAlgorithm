{
  "nbformat": 4,
  "nbformat_minor": 0,
  "metadata": {
    "colab": {
      "provenance": [],
      "authorship_tag": "ABX9TyOr3ARvJSGlHFurpeWFobzr",
      "include_colab_link": true
    },
    "kernelspec": {
      "name": "python3",
      "display_name": "Python 3"
    },
    "language_info": {
      "name": "python"
    }
  },
  "cells": [
    {
      "cell_type": "markdown",
      "metadata": {
        "id": "view-in-github",
        "colab_type": "text"
      },
      "source": [
        "<a href=\"https://colab.research.google.com/github/NidhiSingh25901/MLAlgorithm/blob/main/FaceDetection.ipynb\" target=\"_parent\"><img src=\"https://colab.research.google.com/assets/colab-badge.svg\" alt=\"Open In Colab\"/></a>"
      ]
    },
    {
      "cell_type": "code",
      "execution_count": null,
      "metadata": {
        "id": "rPRAF6k30CY8"
      },
      "outputs": [],
      "source": [
        "import cv2\n",
        "\n",
        "face_cascade = cv2.CascadeClassifier('haarcascade_frontalface_default.xml')\n",
        "\n",
        "if face_cascade.empty():\n",
        "  print(\"Error: Could not load the haar cascade classifier XML file\")\n",
        "  exit()\n",
        "\n",
        "cap = cv2.VideoCapture(0)\n",
        "\n",
        "if not cap.isOpened():\n",
        "  print(\"Error: Could not open webcam\")\n",
        "  exit()\n",
        "print(\"Press q to exit the video stream\")\n",
        "\n",
        "while True:\n",
        "  ret, frame = cap.read()\n",
        "  if not ret:\n",
        "    print(\"Error: Could not read frame from webcam\")\n",
        "    break\n",
        "\n",
        "  gray = cv2.cvtColor(frame, cv2.COLOR_BAYER_BG2BGR)\n",
        "\n",
        "  faces = face_cascade.detectMultiScale(\n",
        "      gray,\n",
        "      scaleFactor = 1.1,\n",
        "      minNeighbors=5,\n",
        "      minSize=(30,30)\n",
        "  )\n",
        "\n",
        "  for (x,y,w,h) in faces:\n",
        "    cv2.rectangle(frame, (x,y), (x+w, y+h), (0,255,0), 2)\n",
        "\n",
        "  cv2.imshow('Video', frame)"
      ]
    }
  ]
}