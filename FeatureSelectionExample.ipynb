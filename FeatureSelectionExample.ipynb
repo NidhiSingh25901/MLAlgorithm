{
  "nbformat": 4,
  "nbformat_minor": 0,
  "metadata": {
    "colab": {
      "provenance": [],
      "authorship_tag": "ABX9TyPDMDoPY9cW28/tPqNYt5z6",
      "include_colab_link": true
    },
    "kernelspec": {
      "name": "python3",
      "display_name": "Python 3"
    },
    "language_info": {
      "name": "python"
    }
  },
  "cells": [
    {
      "cell_type": "markdown",
      "metadata": {
        "id": "view-in-github",
        "colab_type": "text"
      },
      "source": [
        "<a href=\"https://colab.research.google.com/github/NidhiSingh25901/MLAlgorithm/blob/main/FeatureSelectionExample.ipynb\" target=\"_parent\"><img src=\"https://colab.research.google.com/assets/colab-badge.svg\" alt=\"Open In Colab\"/></a>"
      ]
    },
    {
      "cell_type": "code",
      "execution_count": null,
      "metadata": {
        "id": "8-IbeKJvR1W4"
      },
      "outputs": [],
      "source": [
        "import pandas as pd\n",
        "import numpy as np"
      ]
    },
    {
      "cell_type": "code",
      "source": [
        "data = pd.read_csv('train.csv')\n",
        "data.shape"
      ],
      "metadata": {
        "id": "b7CUMhQWSYAa"
      },
      "execution_count": null,
      "outputs": []
    },
    {
      "cell_type": "code",
      "source": [
        "data.head()"
      ],
      "metadata": {
        "id": "255fcnYsSePB"
      },
      "execution_count": null,
      "outputs": []
    },
    {
      "cell_type": "code",
      "source": [
        "x=data.iloc[:, :-1]\n",
        "y=data.iloc[:,-1]"
      ],
      "metadata": {
        "id": "9UOZ5IQKSf_Q"
      },
      "execution_count": null,
      "outputs": []
    },
    {
      "cell_type": "code",
      "source": [
        "x.shape"
      ],
      "metadata": {
        "id": "wpE7_f-4SnPV"
      },
      "execution_count": null,
      "outputs": []
    },
    {
      "cell_type": "code",
      "source": [
        "mu = x.mean(axis=0)\n",
        "sig = x.std(axis=0)\n",
        "x= (x-mu)/sig"
      ],
      "metadata": {
        "id": "6YdMOdQIS23U"
      },
      "execution_count": null,
      "outputs": []
    },
    {
      "cell_type": "code",
      "source": [
        "from sklearn.feature_selection import SelectKBest"
      ],
      "metadata": {
        "id": "aMNzmhZ4S-8g"
      },
      "execution_count": null,
      "outputs": []
    },
    {
      "cell_type": "code",
      "source": [
        "best_features = SelectKBest()"
      ],
      "metadata": {
        "id": "4Pnb9kHNTEfv"
      },
      "execution_count": null,
      "outputs": []
    },
    {
      "cell_type": "code",
      "source": [
        "fit - best_features.fit(x,y)\n",
        "fit.scores_"
      ],
      "metadata": {
        "id": "p28vCtH9TJNz"
      },
      "execution_count": null,
      "outputs": []
    },
    {
      "cell_type": "code",
      "source": [
        "pd.DataFrame(fit.scores_)\n",
        "dfcolumns = pd.DataFrame(x.columns)"
      ],
      "metadata": {
        "id": "9tm_hmO0TPtK"
      },
      "execution_count": null,
      "outputs": []
    },
    {
      "cell_type": "code",
      "source": [
        "featureScore = pd.concat([dfcolumns,fit.scores_],axis=1)\n",
        "featureScore.columns = ['Specs','Score']\n",
        "featureScore"
      ],
      "metadata": {
        "id": "8ko6y7LITXzq"
      },
      "execution_count": null,
      "outputs": []
    },
    {
      "cell_type": "code",
      "source": [
        "featureScore.sort_values(by='Score',ascending=False)"
      ],
      "metadata": {
        "id": "vwtigL2cTgTY"
      },
      "execution_count": null,
      "outputs": []
    }
  ]
}