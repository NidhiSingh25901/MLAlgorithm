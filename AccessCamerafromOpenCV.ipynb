{
  "nbformat": 4,
  "nbformat_minor": 0,
  "metadata": {
    "colab": {
      "provenance": [],
      "authorship_tag": "ABX9TyOu7BXQML0BLj7Y175dXDHt",
      "include_colab_link": true
    },
    "kernelspec": {
      "name": "python3",
      "display_name": "Python 3"
    },
    "language_info": {
      "name": "python"
    }
  },
  "cells": [
    {
      "cell_type": "markdown",
      "metadata": {
        "id": "view-in-github",
        "colab_type": "text"
      },
      "source": [
        "<a href=\"https://colab.research.google.com/github/NidhiSingh25901/MLAlgorithm/blob/main/AccessCamerafromOpenCV.ipynb\" target=\"_parent\"><img src=\"https://colab.research.google.com/assets/colab-badge.svg\" alt=\"Open In Colab\"/></a>"
      ]
    },
    {
      "cell_type": "code",
      "execution_count": 2,
      "metadata": {
        "colab": {
          "base_uri": "https://localhost:8080/"
        },
        "id": "jR2AK3Hlwfax",
        "outputId": "0e61ecde-f676-433b-b4b0-aa8e49ae4a48"
      },
      "outputs": [
        {
          "output_type": "stream",
          "name": "stdout",
          "text": [
            "Reading Camera Failed\n"
          ]
        }
      ],
      "source": [
        "import cv2\n",
        "from google.colab.patches import cv2_imshow\n",
        "\n",
        "cam = cv2.VideoCapture(0)\n",
        "\n",
        "while True:\n",
        "  success, img = cam.read()\n",
        "  if not success:\n",
        "    print(\"Reading Camera Failed\")\n",
        "    break # Added break to exit the loop if reading fails\n",
        "\n",
        "  cv2_imshow(img)\n",
        "  if cv2.waitKey(1) & 0xFF == ord('q'): # Added ability to quit with 'q' key\n",
        "      break\n",
        "\n",
        "cam.release() # Release the camera resource\n",
        "cv2.destroyAllWindows() # Destroy all OpenCV windows"
      ]
    }
  ]
}